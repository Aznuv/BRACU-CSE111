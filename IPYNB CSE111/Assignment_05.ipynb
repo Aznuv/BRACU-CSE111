{
  "nbformat": 4,
  "nbformat_minor": 0,
  "metadata": {
    "colab": {
      "name": "Assignment05_21301570_UmamaTasnuvaAziz.ipynb",
      "provenance": []
    },
    "kernelspec": {
      "name": "python3",
      "display_name": "Python 3"
    },
    "language_info": {
      "name": "python"
    }
  },
  "cells": [
    {
      "cell_type": "code",
      "metadata": {
        "colab": {
          "base_uri": "https://localhost:8080/"
        },
        "id": "z-1pYC4QOODZ",
        "outputId": "8c3d178b-a6ce-43ad-a591-111ce9554f62"
      },
      "source": [
        "#Task 1\n",
        "class Marks:\n",
        "    def __init__(self,n):\n",
        "        self.mark=n\n",
        "    def __add__(self,other):\n",
        "        return Marks(self.mark+other.mark)\n",
        "Q1 = Marks(int(input(\"Quiz 1 (out of 10): \")))\n",
        "Q2 = Marks(int(input(\"Quiz 2 (out of 10): \")))\n",
        "Lab = Marks(int(input(\"Lab (out of 30): \")))\n",
        "Mid = Marks(int(input(\"Mid (out of 20): \")))\n",
        "Final = Marks(int(input(\"Final (out of 30): \")))\n",
        "total = Q1 + Q2 + Lab + Mid + Final\n",
        "print(\"Total marks: {}\".format(total.mark))"
      ],
      "execution_count": 1,
      "outputs": [
        {
          "output_type": "stream",
          "name": "stdout",
          "text": [
            "Quiz 1 (out of 10): 3\n",
            "Quiz 2 (out of 10): 4\n",
            "Lab (out of 30): 5\n",
            "Mid (out of 20): 6\n",
            "Final (out of 30): 7\n",
            "Total marks: 25\n"
          ]
        }
      ]
    },
    {
      "cell_type": "code",
      "metadata": {
        "colab": {
          "base_uri": "https://localhost:8080/"
        },
        "id": "s7LwP53OPeSS",
        "outputId": "e0683716-2939-4d2d-d310-3099a5c55b2a"
      },
      "source": [
        "#Task 2\n",
        "class Teacher:\n",
        "    def __init__(self,n,Deptmnt):\n",
        "        self.__n = n\n",
        "        self.__Deptmnt = Deptmnt\n",
        "        self.empty = list()\n",
        "    def addCourse(self, c1):\n",
        "        self.empty.append(c1.c)\n",
        "    def printDetail(self):\n",
        "        print(\"====================================\")\n",
        "        print(\"Name: \",self.__n)\n",
        "        print(\"Department: \",self.__Deptmnt)\n",
        "        print(\"List of courses\")\n",
        "        print(\"====================================\")\n",
        "        for i in self.empty:\n",
        "            print(str(i))\n",
        "        print(\"====================================\")\n",
        "class Course:\n",
        "    def __init__(self,c):\n",
        "        self.c = c\n",
        "t1 = Teacher(\"Saad Abdullah\", \"CSE\")\n",
        "t2 = Teacher(\"Mumit Khan\", \"CSE\")\n",
        "t3 = Teacher(\"Sadia Kazi\", \"CSE\")\n",
        "c1 = Course(\"CSE 110 Programming Language I\")\n",
        "c2 = Course(\"CSE 111 Programming Language-II\")\n",
        "c3 = Course(\"CSE 220 Data Structures\")\n",
        "c4 = Course(\"CSE 221 Algorithms\")\n",
        "c5 = Course(\"CCSE 230 Discrete Mathematics\")\n",
        "c6 = Course(\"CSE 310 Object Oriented Programming\")\n",
        "c7 = Course(\"CSE 320 Data Communications\")\n",
        "c8 = Course(\"CSE 340 Computer Architecture\")\n",
        "t1.addCourse(c1)\n",
        "t1.addCourse(c2)\n",
        "t2.addCourse(c3)\n",
        "t2.addCourse(c4)\n",
        "t2.addCourse(c5)\n",
        "t3.addCourse(c6)\n",
        "t3.addCourse(c7)\n",
        "t3.addCourse(c8)\n",
        "t1.printDetail()\n",
        "t2.printDetail()\n",
        "t3.printDetail()"
      ],
      "execution_count": 2,
      "outputs": [
        {
          "output_type": "stream",
          "name": "stdout",
          "text": [
            "====================================\n",
            "Name:  Saad Abdullah\n",
            "Department:  CSE\n",
            "List of courses\n",
            "====================================\n",
            "CSE 110 Programming Language I\n",
            "CSE 111 Programming Language-II\n",
            "====================================\n",
            "====================================\n",
            "Name:  Mumit Khan\n",
            "Department:  CSE\n",
            "List of courses\n",
            "====================================\n",
            "CSE 220 Data Structures\n",
            "CSE 221 Algorithms\n",
            "CCSE 230 Discrete Mathematics\n",
            "====================================\n",
            "====================================\n",
            "Name:  Sadia Kazi\n",
            "Department:  CSE\n",
            "List of courses\n",
            "====================================\n",
            "CSE 310 Object Oriented Programming\n",
            "CSE 320 Data Communications\n",
            "CSE 340 Computer Architecture\n",
            "====================================\n"
          ]
        }
      ]
    },
    {
      "cell_type": "code",
      "metadata": {
        "colab": {
          "base_uri": "https://localhost:8080/"
        },
        "id": "SryYlfiQPgk6",
        "outputId": "634813d0-32d5-4155-f32e-8d8fccca608e"
      },
      "source": [
        "#task 3\n",
        "class Team:\n",
        "    def __init__(self,n=\"Blank\"):\n",
        "        self.__n = n\n",
        "        self.__lst = []\n",
        "    def setName(self,n):\n",
        "        self.__n = n\n",
        "    def addPlayer(self,obj):\n",
        "        self.__lst.append(obj.player)\n",
        "    def printDetail(self):\n",
        "        print(\"=====================================\")\n",
        "        print(\"Name:\",self.__n)\n",
        "        print(\"List of players:\")\n",
        "        print(self.__lst)\n",
        "        print(\"=====================================\")\n",
        "class Player:\n",
        "    def __init__(self,player):\n",
        "        self.player = player       \n",
        "b = Team()\n",
        "b.setName('Bangladesh')\n",
        "mashrafi = Player(\"Mashrafi\")\n",
        "b.addPlayer(mashrafi)\n",
        "tamim = Player(\"Tamim\")\n",
        "b.addPlayer(tamim)\n",
        "b.printDetail()\n",
        "a = Team(\"Australia\")\n",
        "ponting = Player(\"Ponting\")\n",
        "a.addPlayer(ponting)\n",
        "lee = Player(\"Lee\")\n",
        "a.addPlayer(lee)\n",
        "a.printDetail()"
      ],
      "execution_count": 3,
      "outputs": [
        {
          "output_type": "stream",
          "name": "stdout",
          "text": [
            "=====================================\n",
            "Name: Bangladesh\n",
            "List of players:\n",
            "['Mashrafi', 'Tamim']\n",
            "=====================================\n",
            "=====================================\n",
            "Name: Australia\n",
            "List of players:\n",
            "['Ponting', 'Lee']\n",
            "=====================================\n"
          ]
        }
      ]
    },
    {
      "cell_type": "code",
      "metadata": {
        "colab": {
          "base_uri": "https://localhost:8080/"
        },
        "id": "iYlcLNCXPkJB",
        "outputId": "6e0a23e4-9a48-4be8-8427-179ea575dfcd"
      },
      "source": [
        "#Task4\n",
        "class Color:\n",
        "    def __init__(self,color):\n",
        "        self.clr = color\n",
        "    def __add__(self,other):\n",
        "        if self.clr == \"red\" and other.clr == \"yellow\":\n",
        "            object_1 = Color(\"orange\")\n",
        "            return object_1\n",
        "        if self.clr == \"yellow\" and other.clr == \"yellow\" or self.clr == \"red\" and other.clr == 'red':\n",
        "            object_1 = Color(\"orange\")\n",
        "            return object_1\n",
        "        if self.clr == 'red' and other.clr == \"blue\" or self.clr == 'blue' and other.clr == \"red\":\n",
        "            object_1 = Color(\"violet\")\n",
        "            return object_1\n",
        "        if self.clr == \"yellow\" and other.clr == \"blue\" or self.clr == 'blue' and other.clr == \"yellow\":\n",
        "            object_1 = Color(\"Green\")\n",
        "            return object_1\n",
        "C1 = Color(input(\"First Color: \").lower())\n",
        "C2 = Color(input(\"Second Color: \").lower())\n",
        "C3 = C1 + C2\n",
        "print(\"Color formed:\", C3.clr)"
      ],
      "execution_count": 5,
      "outputs": [
        {
          "output_type": "stream",
          "name": "stdout",
          "text": [
            "First Color: blue\n",
            "Second Color: red\n",
            "Color formed: violet\n"
          ]
        }
      ]
    },
    {
      "cell_type": "code",
      "metadata": {
        "colab": {
          "base_uri": "https://localhost:8080/"
        },
        "id": "SIXflrJLPlZS",
        "outputId": "b7dadce2-c80d-4039-e386-78f2825d9a09"
      },
      "source": [
        "# Task 5 \n",
        "from math import pi\n",
        "class Circle:\n",
        "    def __init__(self,r):\n",
        "        self.__r = r   \n",
        "    def setRadius(self):\n",
        "        self.__r = r\n",
        "    def getRadius(self):\n",
        "        return self.__r        \n",
        "    def area(self):\n",
        "        return pi * self.__r**2\n",
        "    def __add__(self,other):\n",
        "        return Circle(self.__r + other.__r) \n",
        "c1 = Circle(4)\n",
        "print(\"First circle radius:\" , c1.getRadius())\n",
        "print(\"First circle area:\" ,c1.area())\n",
        "c2 = Circle(5)\n",
        "print(\"Second circle radius:\" ,c2.getRadius())\n",
        "print(\"Second circle area:\" ,c2.area())\n",
        "c3 = c1 + c2\n",
        "print(\"Third circle radius:\" ,c3.getRadius())\n",
        "print(\"Third circle area:\" ,c3.area())"
      ],
      "execution_count": 6,
      "outputs": [
        {
          "output_type": "stream",
          "name": "stdout",
          "text": [
            "First circle radius: 4\n",
            "First circle area: 50.26548245743669\n",
            "Second circle radius: 5\n",
            "Second circle area: 78.53981633974483\n",
            "Third circle radius: 9\n",
            "Third circle area: 254.46900494077323\n"
          ]
        }
      ]
    },
    {
      "cell_type": "code",
      "metadata": {
        "colab": {
          "base_uri": "https://localhost:8080/"
        },
        "id": "yPFJZOmFPn-J",
        "outputId": "1eea23a4-88ee-4b90-e76b-ce1adc48127d"
      },
      "source": [
        "#TASK 6\n",
        "class Triangle:\n",
        "    def __init__(self, v, m ):\n",
        "        self.__v = v\n",
        "        self.__m = m\n",
        "    def getBase(self):\n",
        "        return self.__v\n",
        "    def getHeight(self):\n",
        "        return self.__m\n",
        "    def setBase(self, n):\n",
        "        self.__v = new\n",
        "    def setHight(self, nn):\n",
        "        self.__m = nn\n",
        "    def area(self):\n",
        "        return (1/2 * self.__v * self.__m)\n",
        "    def __sub__(self, other):\n",
        "        return Triangle(self.__v - other.__v, self.__m - other.__m)\n",
        "t1 = Triangle(10, 5)\n",
        "print(\"First Triangle Base:\" , t1.getBase())\n",
        "print(\"First Triangle Height:\" , t1.getHeight())\n",
        "print(\"First Triangle area:\" ,t1.area())\n",
        "t2 = Triangle(5, 3)\n",
        "print(\"Second Triangle Base:\" , t2.getBase())\n",
        "print(\"Second Triangle Height:\" , t2.getHeight())\n",
        "print(\"Second Triangle area:\" ,t2.area())\n",
        "t3 = t1 - t2\n",
        "print(\"Third Triangle Base:\" , t3.getBase())\n",
        "print(\"Third Triangle Height:\" , t3.getHeight())\n",
        "print(\"Third Triangle area:\" ,t3.area())"
      ],
      "execution_count": 7,
      "outputs": [
        {
          "output_type": "stream",
          "name": "stdout",
          "text": [
            "First Triangle Base: 10\n",
            "First Triangle Height: 5\n",
            "First Triangle area: 25.0\n",
            "Second Triangle Base: 5\n",
            "Second Triangle Height: 3\n",
            "Second Triangle area: 7.5\n",
            "Third Triangle Base: 5\n",
            "Third Triangle Height: 2\n",
            "Third Triangle area: 5.0\n"
          ]
        }
      ]
    },
    {
      "cell_type": "code",
      "metadata": {
        "colab": {
          "base_uri": "https://localhost:8080/"
        },
        "id": "It99YneJPq0p",
        "outputId": "d326ac77-1829-4a13-dfdd-e1a8001c2cca"
      },
      "source": [
        "#Task7\n",
        "class Dolls:   \n",
        "    def __init__(self,name,price,amount=1):\n",
        "        self.name = name\n",
        "        self.price = price\n",
        "        self.amount = amount \n",
        "    def detail(self):\n",
        "        if self.amount == 1:\n",
        "            return(\"Doll: \"+self.name+\"\\nTotal Price: \"+str(self.price)+\" taka\")\n",
        "        else:\n",
        "            return(\"Dolls: \"+self.name+\"\\nTotal Price: \"+str(self.price)+\" taka\")\n",
        "    def __gt__(self,other):\n",
        "        if self.price > other.price:\n",
        "            return True\n",
        "        else:\n",
        "            return False\n",
        "    def __add__(self,other):\n",
        "        variable = Dolls(self.name+\" \"+other.name,self.price+other.price,2)\n",
        "        return variable\n",
        "obj_1 = Dolls(\"Tweety\", 2500)\n",
        "print(obj_1.detail())\n",
        "if obj_1 > obj_1:\n",
        "    print(\"Congratulations! You get the Tweety as a gift!\")\n",
        "else:\n",
        "    print(\"Thank you!\")\n",
        "print(\"=========================\")\n",
        "obj_2 = Dolls(\"Daffy Duck\", 1800)\n",
        "print(obj_2.detail())\n",
        "if obj_2 > obj_1:\n",
        "    print(\"Congratulations! You get the Tweety as a gift!\")\n",
        "else:\n",
        "    print(\"Thank you!\")\n",
        "print(\"=========================\")\n",
        "obj_3 = Dolls(\"Bugs Bunny\", 3000)\n",
        "print(obj_3.detail())\n",
        "if obj_3 > obj_1:\n",
        "    print(\"Congratulations! You get the Tweety as a gift!\")\n",
        "else:\n",
        "    print(\"Thank you!\")\n",
        "print(\"=========================\")\n",
        "obj_4 = Dolls(\"Porky Pig\", 1500)\n",
        "print(obj_4.detail())\n",
        "if obj_4 > obj_1:\n",
        "    print(\"Congratulations! You get the Tweety as a gift!\")\n",
        "else:\n",
        "    print(\"Thank you!\")\n",
        "print(\"=========================\")\n",
        "obj_5 = obj_2 + obj_3\n",
        "print(obj_5.detail())\n",
        "if obj_5 > obj_1:\n",
        "    print(\"Congratulations! You get the Tweety as a gift!\")\n",
        "else:\n",
        "    print(\"Thank you!\")"
      ],
      "execution_count": 8,
      "outputs": [
        {
          "output_type": "stream",
          "name": "stdout",
          "text": [
            "Doll: Tweety\n",
            "Total Price: 2500 taka\n",
            "Thank you!\n",
            "=========================\n",
            "Doll: Daffy Duck\n",
            "Total Price: 1800 taka\n",
            "Thank you!\n",
            "=========================\n",
            "Doll: Bugs Bunny\n",
            "Total Price: 3000 taka\n",
            "Congratulations! You get the Tweety as a gift!\n",
            "=========================\n",
            "Doll: Porky Pig\n",
            "Total Price: 1500 taka\n",
            "Thank you!\n",
            "=========================\n",
            "Dolls: Daffy Duck Bugs Bunny\n",
            "Total Price: 4800 taka\n",
            "Congratulations! You get the Tweety as a gift!\n"
          ]
        }
      ]
    },
    {
      "cell_type": "code",
      "metadata": {
        "colab": {
          "base_uri": "https://localhost:8080/"
        },
        "id": "axj5R8-yPtVK",
        "outputId": "b43b047b-df30-4243-ddc5-d81760624220"
      },
      "source": [
        "#Task 8\n",
        "class Coordinates():\n",
        "    def __init__(self,p,q):\n",
        "        self.p=p\n",
        "        self.q=q\n",
        "    def __sub__(self,other):\n",
        "        vari=Coordinates(self.p-other.p,self.q-other.q)\n",
        "        return vari\n",
        "    def __mul__(self,other):\n",
        "        vari=Coordinates(self.p*other.p,self.q*other.q)\n",
        "        return vari\n",
        "    def __eq__(self,other):\n",
        "        if self.p==other.p and self.q==other.q:\n",
        "            return \"The calculated coordinates are the same.\"\n",
        "        else:\n",
        "            return \"The calculated coordinates are not the same.\"\n",
        "    def detail(self):\n",
        "        return \"(\"+str(self.p)+\",\"+str(self.q)+\")\"\n",
        "p1 = Coordinates(int(input()),int(input()))\n",
        "p2 = Coordinates(int(input()),int(input()))\n",
        "p4 = p1 - p2\n",
        "print(p4.detail())\n",
        "p5 = p1 * p2\n",
        "print(p5.detail())\n",
        "point_check = (p4 == p5)\n",
        "print(point_check)"
      ],
      "execution_count": 9,
      "outputs": [
        {
          "output_type": "stream",
          "name": "stdout",
          "text": [
            "1\n",
            "2\n",
            "3\n",
            "4\n",
            "(-2,-2)\n",
            "(3,8)\n",
            "The calculated coordinates are not the same.\n"
          ]
        }
      ]
    }
  ]
}