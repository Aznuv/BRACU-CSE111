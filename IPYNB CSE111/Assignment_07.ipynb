{
  "nbformat": 4,
  "nbformat_minor": 0,
  "metadata": {
    "colab": {
      "name": "Assignment_07_21301570_UmamaTasnuvaAziz.ipynb",
      "provenance": [],
      "collapsed_sections": []
    },
    "kernelspec": {
      "name": "python3",
      "display_name": "Python 3"
    },
    "language_info": {
      "name": "python"
    }
  },
  "cells": [
    {
      "cell_type": "markdown",
      "source": [
        "# Course Title: Programming Language II  \n",
        "Course Code: CSE 111 \n",
        "\n",
        "Lab Assignment No.07"
      ],
      "metadata": {
        "id": "_39ln6QyU9Jb"
      }
    },
    {
      "cell_type": "code",
      "source": [
        "#Name: Umama Tasnuva Aziz\n",
        "#ID: 21301570\n",
        "#Section: 10"
      ],
      "metadata": {
        "id": "XDX_IYTBVBEC"
      },
      "execution_count": null,
      "outputs": []
    },
    {
      "cell_type": "code",
      "execution_count": 1,
      "metadata": {
        "colab": {
          "base_uri": "https://localhost:8080/"
        },
        "id": "_Qj_8ilxQkRa",
        "outputId": "96245aa5-1a2f-4bb7-e4d1-d6f4f1c5cc40"
      },
      "outputs": [
        {
          "output_type": "stream",
          "name": "stdout",
          "text": [
            "Name: default Department: BBA\n",
            "Name: Humpty Dumpty Department: BBA\n",
            "Name: Little Bo Peep Department: BBA\n"
          ]
        }
      ],
      "source": [
        "#Task:1\n",
        "class Student:\n",
        "    def __init__(self, name='Just a student', dept='nothing'):\n",
        "        self.__name = name\n",
        "        self.__department = dept\n",
        "    def set_department(self, dept):\n",
        "        self.__department = dept\n",
        "    def get_name(self):\n",
        "        return self.__name\n",
        "    def set_name(self,name):\n",
        "        self.__name = name\n",
        "    def __str__(self):\n",
        "        return 'Name: '+self.__name+' Department: '+self.__department\n",
        "class BBA_Student(Student):\n",
        "    def __init__(t,a=\"default\",sectr=\"BBA\"):\n",
        "        super().__init__(a,sectr)\n",
        "print(BBA_Student())\n",
        "print(BBA_Student('Humpty Dumpty'))\n",
        "print(BBA_Student('Little Bo Peep'))"
      ]
    },
    {
      "cell_type": "code",
      "source": [
        "#Task:2\n",
        "class Vehicle:\n",
        "    def __init__(self):\n",
        "        self.x = 0\n",
        "        self.y = 0\n",
        "    def moveUp(self):\n",
        "        self.y+=1\n",
        "    def moveDown(self):\n",
        "        self.y-=1\n",
        "    def moveRight(self):\n",
        "        self.x+=1\n",
        "    def moveLeft(self):\n",
        "        self.x-=1\n",
        "    def __str__(self):\n",
        "        return '('+str(self.x)+' , '+str(self.y)+')'\n",
        "class Vehicle2010(Vehicle):\n",
        "    def __init__(self):\n",
        "        super().__init__()\n",
        "\n",
        "    def moveUpperRight(self):\n",
        "        self.moveUp()\n",
        "        self.moveRight()\n",
        "\n",
        "    def moveUpperLeft(self):\n",
        "        self.moveLeft()\n",
        "        self.moveUp()\n",
        "\n",
        "    def moveLowerRight(self):\n",
        "        self.moveDown()\n",
        "        self.moveRight()\n",
        "\n",
        "    def moveLowerLeft(self):\n",
        "        self.moveDown()\n",
        "        self.moveLeft()\n",
        "\n",
        "    def equals(self,CaR):\n",
        "        if self.x==CaR.x  and  self.y==CaR.y:\n",
        "            return True\n",
        "        else:\n",
        "            return False\n",
        "      \n",
        "print('Part 1')\n",
        "print('------')\n",
        "car = Vehicle()\n",
        "print(car)\n",
        "car.moveUp()\n",
        "print(car)\n",
        "car.moveLeft()\n",
        "print(car)\n",
        "car.moveDown()\n",
        "print(car)\n",
        "car.moveRight()\n",
        "print(car)\n",
        "print('------')\n",
        "print('Part 2')\n",
        "print('------')\n",
        "car1 = Vehicle2010()\n",
        "print(car1)\n",
        "car1.moveLowerLeft()\n",
        "print(car1)\n",
        "car2 = Vehicle2010()\n",
        "car2.moveLeft()\n",
        "print(car1.equals(car2))\n",
        "car2.moveDown()\n",
        "print(car1.equals(car2))\n",
        "print('------')"
      ],
      "metadata": {
        "colab": {
          "base_uri": "https://localhost:8080/"
        },
        "id": "g8ATSfNsRo3M",
        "outputId": "9cadaee9-48af-4f25-8ad0-c21a10ccf7bb"
      },
      "execution_count": 8,
      "outputs": [
        {
          "output_type": "stream",
          "name": "stdout",
          "text": [
            "Part 1\n",
            "------\n",
            "(0 , 0)\n",
            "(0 , 1)\n",
            "(-1 , 1)\n",
            "(-1 , 0)\n",
            "(0 , 0)\n",
            "------\n",
            "Part 2\n",
            "------\n",
            "(0 , 0)\n",
            "(-1 , -1)\n",
            "False\n",
            "True\n",
            "------\n"
          ]
        }
      ]
    },
    {
      "cell_type": "code",
      "source": [
        "#Task:3\n",
        "class Tournament:\n",
        "    def __init__(self, name ='Default'):\n",
        "        self.__name = name\n",
        "        #print(\"Hl\")\n",
        "    def set_name(self, name):\n",
        "        self.__name = name\n",
        "\n",
        "    def get_name(self):\n",
        "        return self.__name\n",
        "\n",
        "class Cricket_Tournament(Tournament):\n",
        "    def __init__(self, name =\"Default\", t = 0, type1 = \"No type\"):\n",
        "        super().__init__(name)\n",
        "        self.__t = t\n",
        "        self.__type1 = type1\n",
        "    def detail(self):\n",
        "        return \"Cricket Tournament Name: \" + super().get_name() + \"\\nNumber of Teams:\" + str(self.__t) + \"\\nType: \" + self.__type1\n",
        "class Tennis_Tournament(Tournament):\n",
        "    def __init__(self,name,Players):\n",
        "        super().__init__(name)\n",
        "        \n",
        "        self.__num_of_players = Players\n",
        "    def detail(self):\n",
        "        return 'Tennis Tournament Name: '+ super().get_name() + '\\nNumber of Players: ' + str(self.__num_of_players)\n",
        "        \n",
        "ct1 = Cricket_Tournament()\n",
        "print(ct1.detail())\n",
        "print(\"-----------------------\")\n",
        "ct2 = Cricket_Tournament(\"IPL\", 10, \"t20\")\n",
        "print(ct2.detail())\n",
        "print(\"-----------------------\")\n",
        "tt = Tennis_Tournament(\"Roland Garros\",128)\n",
        "print(tt.detail())"
      ],
      "metadata": {
        "colab": {
          "base_uri": "https://localhost:8080/"
        },
        "id": "WPpZSGxHRrnD",
        "outputId": "7263fd16-2859-4b56-d929-03555a7fdff6"
      },
      "execution_count": 10,
      "outputs": [
        {
          "output_type": "stream",
          "name": "stdout",
          "text": [
            "Cricket Tournament Name: Default\n",
            "Number of Teams:0\n",
            "Type: No type\n",
            "-----------------------\n",
            "Cricket Tournament Name: IPL\n",
            "Number of Teams:10\n",
            "Type: t20\n",
            "-----------------------\n",
            "Tennis Tournament Name: Roland Garros\n",
            "Number of Players: 128\n"
          ]
        }
      ]
    },
    {
      "cell_type": "code",
      "source": [
        "#Task:4\n",
        "class Product:\n",
        "    def __init__(self, id, title, price):\n",
        "        self.__id = id\n",
        "        self. __title = title\n",
        "        self. __price = price\n",
        "    def get_id_title_price(self):\n",
        "        return \"ID: \" + str(self.__id) + \" Title: \" + self.__title + \" Price: \" + str(self.__price)\n",
        "\n",
        "class Book(Product):\n",
        "    def __init__(s, id, title, price, qqq, publisher):\n",
        "        super().__init__(id, title, price)\n",
        "        s.__qqq = qqq\n",
        "        s.__Pub = publisher\n",
        "    def printDetail(s):\n",
        "        return super().get_id_title_price() + \"\\nISBN: \" + s.__qqq + \" Publisher: \" + s.__Pub\n",
        "\n",
        "class CD(Product):\n",
        "    def __init__(s, id, title, price, band, time, genre):\n",
        "        super().__init__(id, title, price)\n",
        "        s.__band = band\n",
        "        s.__time = time\n",
        "        s.__genre = genre\n",
        "    def printDetail(s):\n",
        "        return super().get_id_title_price() + '\\nBand: ' + s.__band + \" Duration: \" + str(s.__time) + \"minutes\" + \"\\nGenre: \" + s.__genre\n",
        "\n",
        "\n",
        "book = Book(1, \"The Alchemist\", 500, \"97806\", \"HarperCollins\")\n",
        "print(book.printDetail())\n",
        "print(\"-----------------------\")\n",
        "cd = CD(2, \"Shotto\", 300, \"Warfaze\", 50, \"Hard Rock\")\n",
        "print(cd.printDetail())"
      ],
      "metadata": {
        "colab": {
          "base_uri": "https://localhost:8080/"
        },
        "id": "eZxJL9GSRtAc",
        "outputId": "236a62d1-b52c-402a-a763-315d3a9ffb17"
      },
      "execution_count": 11,
      "outputs": [
        {
          "output_type": "stream",
          "name": "stdout",
          "text": [
            "ID: 1 Title: The Alchemist Price: 500\n",
            "ISBN: 97806 Publisher: HarperCollins\n",
            "-----------------------\n",
            "ID: 2 Title: Shotto Price: 300\n",
            "Band: Warfaze Duration: 50minutes\n",
            "Genre: Hard Rock\n"
          ]
        }
      ]
    },
    {
      "cell_type": "code",
      "source": [
        "#Task:5\n",
        "class Animal:\n",
        "    def __init__(self, sound):\n",
        "        self.__sound = sound\n",
        "    def makeSound(self):\n",
        "        return self.__sound\n",
        "class Printer:\n",
        "    def printSound(self, a):\n",
        "        print(a.makeSound())\n",
        "class Dog(Animal):\n",
        "    def __init__(j, volume):\n",
        "        super().__init__(volume)\n",
        "class Cat(Animal):\n",
        "    def __init__(j, volume):\n",
        "        super().__init__(volume)\n",
        "d1 = Dog('bark')\n",
        "c1 = Cat('meow')\n",
        "a1 = Animal('Animal does not make sound')\n",
        "pr = Printer()\n",
        "pr.printSound(a1)\n",
        "pr.printSound(c1)\n",
        "pr.printSound(d1)"
      ],
      "metadata": {
        "colab": {
          "base_uri": "https://localhost:8080/"
        },
        "id": "Rq_UhpouRuV8",
        "outputId": "670c8e54-6015-4612-9500-804c8e7c06eb"
      },
      "execution_count": 12,
      "outputs": [
        {
          "output_type": "stream",
          "name": "stdout",
          "text": [
            "Animal does not make sound\n",
            "meow\n",
            "bark\n"
          ]
        }
      ]
    },
    {
      "cell_type": "code",
      "source": [
        "#Task:6\n",
        "class Shape:\n",
        "    def __init__(self, name = 'Default', height = 0, base = 0):\n",
        "        self.area = 0\n",
        "        self.name = name\n",
        "        self.height = height\n",
        "        self.base = base\n",
        "    def get_height_base(self):\n",
        "        return \"Height: \" + str(self.height) + \", Base: \" + str(self.base)\n",
        "class triangle(Shape):\n",
        "    def __init__(self,name = \"Default\", height = 0, base = 0):\n",
        "        super().__init__(name, height, base)\n",
        "    def calcArea(self):\n",
        "        self.area = .5 * self.base * self.height\n",
        "    def printDetail(self):\n",
        "        return \"Shape name: \" + self.name + \"\\n\" + super().get_height_base() + \"\\nArea: \" + str(self.area)\n",
        "class trapezoid(Shape):\n",
        "    def __init__(self, name, height, base, side_A):\n",
        "        super().__init__(name, height, base)\n",
        "        self.side_A = side_A\n",
        "    def calcArea(self):\n",
        "        self.area = (self.base + self.side_A)/2*self.height\n",
        "    def printDetail(self):\n",
        "        return \"Shape name: \" + self.name + \"\\n\" + super().get_height_base() + \", Side_A: \" + str(self.side_A) + \"\\nArea: \" + str(self.area)\n",
        "tri_default = triangle()\n",
        "tri_default.calcArea()\n",
        "print(tri_default.printDetail())\n",
        "print('--------------------------')\n",
        "tri = triangle('Triangle', 10, 5)\n",
        "tri.calcArea()\n",
        "print(tri.printDetail())\n",
        "print('---------------------------')\n",
        "trap = trapezoid('Trapezoid', 10, 6, 4)\n",
        "trap.calcArea()\n",
        "print(trap.printDetail())"
      ],
      "metadata": {
        "colab": {
          "base_uri": "https://localhost:8080/"
        },
        "id": "IWLTgZr2RvlL",
        "outputId": "63f044c7-bdbb-4770-bd67-e9598fbe04bc"
      },
      "execution_count": 13,
      "outputs": [
        {
          "output_type": "stream",
          "name": "stdout",
          "text": [
            "Shape name: Default\n",
            "Height: 0, Base: 0\n",
            "Area: 0.0\n",
            "--------------------------\n",
            "Shape name: Triangle\n",
            "Height: 10, Base: 5\n",
            "Area: 25.0\n",
            "---------------------------\n",
            "Shape name: Trapezoid\n",
            "Height: 10, Base: 6, Side_A: 4\n",
            "Area: 50.0\n"
          ]
        }
      ]
    },
    {
      "cell_type": "code",
      "source": [
        "#Task:7\n",
        "class Football:\n",
        "    def __init__(self, team_name, name, role):\n",
        "        self.__team = team_name\n",
        "        self.__name = name\n",
        "        self.role = role\n",
        "        self.earning_per_match = 0\n",
        "    def get_name_team(self):\n",
        "        return 'Name: '+ self.__name + ', Team Name: ' + self.__team\n",
        "class Player(Football):\n",
        "    def __init__(self, tm, name, role, g, m):\n",
        "        super().__init__(tm, name, role)\n",
        "        self.g = g\n",
        "        self.m = m\n",
        "    def calculate_ratio(self):\n",
        "        self.ratio = self.g/self.m\n",
        "    def print_details(self):\n",
        "        print(super().get_name_team())\n",
        "        print(\"Team role: \" + self.role)\n",
        "        print(\"Total Goal: \" + str(self.g) + \",\" + \" Total played: \", str(self.m))\n",
        "        print(\"Goal Ratio: \",self.ratio)\n",
        "        print(\"Match Earning: \" + str(self.g * 1000 + self.m * 10) + \"K\")\n",
        "class Manager(Football):\n",
        "    def __init__(self, tm, name, role, win):\n",
        "        super().__init__(tm, name, role)\n",
        "        self.win = win\n",
        "    def print_details(self):\n",
        "        print(super().get_name_team())\n",
        "        print(\"Team role: \", self.role)\n",
        "        print(\"Total win: \", self.win)\n",
        "        print(\"Match earning: \" + str(self.win*1000) + \"K\")\n",
        "player_one = Player('Juventus', 'Ronaldo', 'Striker', 25, 32)\n",
        "player_one.calculate_ratio()\n",
        "player_one.print_details()\n",
        "print('------------------------------------------')\n",
        "manager_one = Manager('Real Madrid', 'Zidane', 'Manager', 25)\n",
        "manager_one.print_details()"
      ],
      "metadata": {
        "colab": {
          "base_uri": "https://localhost:8080/"
        },
        "id": "EQ4OpSHtRwfL",
        "outputId": "f9031966-5cf2-45a2-9544-62d81f072045"
      },
      "execution_count": 14,
      "outputs": [
        {
          "output_type": "stream",
          "name": "stdout",
          "text": [
            "Name: Ronaldo, Team Name: Juventus\n",
            "Team role: Striker\n",
            "Total Goal: 25, Total played:  32\n",
            "Goal Ratio:  0.78125\n",
            "Match Earning: 25320K\n",
            "------------------------------------------\n",
            "Name: Zidane, Team Name: Real Madrid\n",
            "Team role:  Manager\n",
            "Total win:  25\n",
            "Match earning: 25000K\n"
          ]
        }
      ]
    }
  ]
}