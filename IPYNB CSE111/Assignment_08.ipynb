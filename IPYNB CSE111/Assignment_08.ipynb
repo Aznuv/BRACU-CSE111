{
  "nbformat": 4,
  "nbformat_minor": 0,
  "metadata": {
    "colab": {
      "name": "Assignment 08_21301570_UmamaTasnuvaAziz.ipynb",
      "provenance": [],
      "collapsed_sections": []
    },
    "kernelspec": {
      "name": "python3",
      "display_name": "Python 3"
    },
    "language_info": {
      "name": "python"
    }
  },
  "cells": [
    {
      "cell_type": "code",
      "execution_count": 1,
      "metadata": {
        "colab": {
          "base_uri": "https://localhost:8080/"
        },
        "id": "kUcWQsLLbCe2",
        "outputId": "d546963d-ddf1-46f4-bb7f-fda9836bef15"
      },
      "outputs": [
        {
          "output_type": "stream",
          "name": "stdout",
          "text": [
            "RealPart: 1.0\n",
            "ImaginaryPart: 1.0\n",
            "---------\n",
            "RealPart: 5.0\n",
            "ImaginaryPart: 7.0\n"
          ]
        }
      ],
      "source": [
        "class RealNumber:\n",
        "    def __init__(self, r = 0):\n",
        "        self.__realValue = r\n",
        "    def getRealValue(self):\n",
        "        return self.__realValue\n",
        "    def setRealValue(self, r):\n",
        "        self.__realValue = r\n",
        "    def __str__(self):\n",
        "        return 'RealPart: '+ str(self.getRealValue())\n",
        "class ComplexNumber(RealNumber):\n",
        "    def __init__(self, r = 1, a = 1):\n",
        "        super().__init__(r)\n",
        "        self.a = a\n",
        "    def __str__(self):\n",
        "        return \"RealPart: \" + str(float(self.getRealValue())) + \"\\nImaginaryPart: \" + str(float(self.a))\n",
        "cn1 = ComplexNumber()\n",
        "print(cn1)\n",
        "print('---------')\n",
        "cn2 = ComplexNumber(5, 7)\n",
        "print(cn2)"
      ]
    },
    {
      "cell_type": "code",
      "source": [
        "class RealNumber:\n",
        "    def __init__(self, number = 0):\n",
        "        self.number = number\n",
        "    def __add__(self, anotherRealNumber):\n",
        "        return self.number + anotherRealNumber.number\n",
        "    def __sub__(self, anotherRealNumber):\n",
        "        return self.number - anotherRealNumber.number\n",
        "    def __str__(self):\n",
        "        return str(self.number)\n",
        "\n",
        "class ComplexNumber(RealNumber):\n",
        "    def __init__(self, real, imaginary):\n",
        "        self.real_number = int(str(real))\n",
        "        self.imaginary_number = imaginary\n",
        "\n",
        "    def __add__(self, other):\n",
        "        real = self.real_number + other.real_number\n",
        "        imaginary = self.imaginary_number + other.imaginary_number\n",
        "        return ComplexNumber(real, imaginary)\n",
        "\n",
        "    def __sub__(self, other):\n",
        "        real = self.real_number - other.real_number\n",
        "        imaginary = self.imaginary_number - other.imaginary_number\n",
        "        return ComplexNumber(real, imaginary)\n",
        "\n",
        "    def __str__(self):\n",
        "        if self.imaginary_number > 0:\n",
        "            return str(self.real_number) + \" + \" + str(self.imaginary_number) + \"i\"\n",
        "        else:\n",
        "            return str(self.real_number) + \" - \" + str(abs(self.imaginary_number)) + \"i\"\n",
        "            \n",
        "r1 = RealNumber(3)\n",
        "r2 = RealNumber(5)\n",
        "print(r1 + r2)\n",
        "cn1 = ComplexNumber(2, 1)\n",
        "print(cn1)\n",
        "cn2 = ComplexNumber(r1, 5)\n",
        "print(cn2)\n",
        "cn3 = cn1 + cn2\n",
        "print(cn3)\n",
        "cn4 = cn1 - cn2\n",
        "print(cn4)"
      ],
      "metadata": {
        "colab": {
          "base_uri": "https://localhost:8080/"
        },
        "id": "5g3FyfmHdCgF",
        "outputId": "5f7f1b64-2213-4d83-e19e-5e4b862d39b8"
      },
      "execution_count": 2,
      "outputs": [
        {
          "output_type": "stream",
          "name": "stdout",
          "text": [
            "8\n",
            "2 + 1i\n",
            "3 + 5i\n",
            "5 + 6i\n",
            "-1 - 4i\n"
          ]
        }
      ]
    },
    {
      "cell_type": "code",
      "source": [
        "class Account:\n",
        "    def __init__(self, balance):\n",
        "        self._balance = balance\n",
        "        \n",
        "    def getBalance(self):\n",
        "        return self._balance\n",
        "\n",
        "class CheckingAccount(Account):\n",
        "    numberOfAccount = 0\n",
        "    num1 = 0\n",
        "    def __init__(self,balance = 0.0):\n",
        "        super().__init__(balance)\n",
        "        CheckingAccount.num1 += 1\n",
        "        CheckingAccount.numberOfAccount = str(CheckingAccount.num1)\n",
        "    def __str__(self):\n",
        "        if Account.getBalance(self) == 0.0:\n",
        "            return \"Account Balance: \" + str(self.getBalance())\n",
        "        else:\n",
        "            return \"Account Balance: \" + str(self.getBalance()) + \"0\"\n",
        "\n",
        "print('Number of Checking Accounts:', CheckingAccount.numberOfAccount)\n",
        "print(CheckingAccount())\n",
        "print(CheckingAccount(100.00))\n",
        "print(CheckingAccount(200.00))\n",
        "print('Number of Checking Accounts:', CheckingAccount.numberOfAccount)"
      ],
      "metadata": {
        "colab": {
          "base_uri": "https://localhost:8080/"
        },
        "id": "7E65nm_7dCy9",
        "outputId": "b37144da-8653-4137-e65c-bd628e04d5ed"
      },
      "execution_count": 11,
      "outputs": [
        {
          "output_type": "stream",
          "name": "stdout",
          "text": [
            "Number of Checking Accounts: 0\n",
            "Account Balance: 0.0\n",
            "Account Balance: 100.00\n",
            "Account Balance: 200.00\n",
            "Number of Checking Accounts: 3\n"
          ]
        }
      ]
    },
    {
      "cell_type": "code",
      "source": [
        "class Fruit:\n",
        "    def __init__(self, formalin = False, name = ''):\n",
        "        self.__formalin = formalin\n",
        "        self.name = name\n",
        "        \n",
        "    def getName(self):\n",
        "        return self.name\n",
        "    \n",
        "    def hasFormalin(self):\n",
        "        return self.__formalin\n",
        "\n",
        "class testFruit:\n",
        "    def test(self, f):\n",
        "        print('----Printing Detail-----')\n",
        "        if f.hasFormalin():\n",
        "            print('Do not eat the', f.getName(), '.')\n",
        "            print(f)\n",
        "        else:\n",
        "            print('Eat the', f.getName(), '.')\n",
        "            print(f)\n",
        "            \n",
        "class Mango(Fruit, testFruit):\n",
        "    def __init__(self, formalin = True, name = 'Mango'):\n",
        "        super().__init__(formalin, name)\n",
        "    def __str__(self):\n",
        "        return self.name + \"s are bad for you\"\n",
        "class Jackfruit(Fruit,testFruit):\n",
        "    def __init__(self, formalin = False, name = 'Jackfruit'):\n",
        "        super().__init__(formalin,name)\n",
        "    def __str__(self):\n",
        "        return self.name + \"s are good for you\"\n",
        "\n",
        "m = Mango()\n",
        "j = Jackfruit()\n",
        "t1 = testFruit()\n",
        "t1.test(m)\n",
        "t1.test(j)"
      ],
      "metadata": {
        "colab": {
          "base_uri": "https://localhost:8080/"
        },
        "id": "qDrVMmR8dDA0",
        "outputId": "9771238b-28ad-47cb-8588-b732def816a9"
      },
      "execution_count": 12,
      "outputs": [
        {
          "output_type": "stream",
          "name": "stdout",
          "text": [
            "----Printing Detail-----\n",
            "Do not eat the Mango .\n",
            "Mangos are bad for you\n",
            "----Printing Detail-----\n",
            "Eat the Jackfruit .\n",
            "Jackfruits are good for you\n"
          ]
        }
      ]
    },
    {
      "cell_type": "code",
      "source": [
        "class Exam:\n",
        "    def __init__(self, marks):\n",
        "        self.marks = marks\n",
        "        self.time = 60\n",
        "        \n",
        "    def examSyllabus(self):\n",
        "        return \"Maths , English\"\n",
        "    def examParts(self):\n",
        "        return \"Part 1 - Maths\\nPart 2 - English\\n\"\n",
        "\n",
        "class ScienceExam(Exam):\n",
        "    def __init__(self, marks, time, *subject):\n",
        "        super().__init__(marks)\n",
        "        self.time = time\n",
        "        self.list1 = [i for i in subject]\n",
        "        self.count = len(self.list1) + 2\n",
        "        self.new(self.list1)\n",
        "    def examSyllabus(self):\n",
        "        return super().examSyllabus() + \" , \" + self.subject\n",
        "    def examParts(self):\n",
        "        string = ''\n",
        "        count = 3\n",
        "        for i in self.list1:\n",
        "            string = string + \"Part \" + str(count) + \" - \" + i + \"\\n\"\n",
        "            count = count + 1\n",
        "        return super().examParts() + string\n",
        "    def new(self, subject):\n",
        "        for j in subject:\n",
        "            self.subject = ' , '.join(subject)\n",
        "        return self.subject\n",
        "    def __str__(self):\n",
        "        return \"Marks: \" + str(self.marks) + \" Time: \" + str(self.time) + \" minutes Number of Parts: \" + str(self.count)\n",
        "        \n",
        "engineering = ScienceExam(100, 90, \"Physics\", \"HigherMaths\")\n",
        "print(engineering)\n",
        "print('----------------------------------')\n",
        "print(engineering.examSyllabus())\n",
        "print(engineering.examParts())\n",
        "print('==================================')\n",
        "architecture = ScienceExam(100, 120, \"Physics\", \"HigherMaths\", \"Drawing\")\n",
        "print(architecture)\n",
        "print('----------------------------------')\n",
        "print(architecture.examSyllabus())\n",
        "print(architecture.examParts())"
      ],
      "metadata": {
        "colab": {
          "base_uri": "https://localhost:8080/"
        },
        "id": "F6yG_c6bdDQs",
        "outputId": "fcf39c7a-6449-4f20-f7df-c3ec4d3c0fb0"
      },
      "execution_count": 5,
      "outputs": [
        {
          "output_type": "stream",
          "name": "stdout",
          "text": [
            "Marks: 100 Time: 90 minutes Number of Parts: 4\n",
            "----------------------------------\n",
            "Maths , English , Physics , HigherMaths\n",
            "Part 1 - Maths\n",
            "Part 2 - English\n",
            "Part 3 - Physics\n",
            "Part 4 - HigherMaths\n",
            "\n",
            "==================================\n",
            "Marks: 100 Time: 120 minutes Number of Parts: 5\n",
            "----------------------------------\n",
            "Maths , English , Physics , HigherMaths , Drawing\n",
            "Part 1 - Maths\n",
            "Part 2 - English\n",
            "Part 3 - Physics\n",
            "Part 4 - HigherMaths\n",
            "Part 5 - Drawing\n",
            "\n"
          ]
        }
      ]
    },
    {
      "cell_type": "code",
      "source": [
        "class Shape3D:\n",
        "    \n",
        "    pi = 3.14159\n",
        "    def __init__(self, name = 'Default', radius = 0):\n",
        "        self._area = 0\n",
        "        self._name = name\n",
        "        self._height = 'No need'\n",
        "        self._radius = radius\n",
        "        \n",
        "    def calc_surface_area(self):\n",
        "        return 2 * Shape3D.pi * self._radius\n",
        "    \n",
        "    def __str__(self):\n",
        "        return \"Radius: \" + str(self._radius)\n",
        "\n",
        "class Sphere(Shape3D):\n",
        "    def __init__(self, name, radius):\n",
        "        super().__init__(name, radius)\n",
        "        self.radius = radius\n",
        "        self.name = name\n",
        "        print(\"Shape name: \" + self.name + \", Area Formula: 4 * pi * r * r\")\n",
        "    def calc_surface_area(self):\n",
        "        return 4 * Shape3D.pi * self.radius * self.radius\n",
        "    def __str__(self):\n",
        "        return super().__str__() + \", Height: No need\\nArea: \" + str(self.calc_surface_area())\n",
        "\n",
        "class Cylinder(Shape3D):\n",
        "    def __init__(self, name, radius, height):\n",
        "        super().__init__(name, radius)\n",
        "        self.radius = radius\n",
        "        self.name = name\n",
        "        self.height = height\n",
        "        print(\"Shape name: \" + self.name + \", Area Formula: 2 * pi * r * (r + h)\")\n",
        "    def calc_surface_area(self):\n",
        "        return 2 * Shape3D.pi * self.radius * (self.radius + self.height)\n",
        "    def __str__(self):\n",
        "        return super().__str__() + \", Height: \" + str(self.height) + \"\\nArea: \" + str(self.calc_surface_area())\n",
        "        \n",
        "sph = Sphere('Sphere', 5)\n",
        "print('----------------------------------')\n",
        "sph.calc_surface_area()\n",
        "print(sph)\n",
        "print('==================================')\n",
        "cyl = Cylinder('Cylinder', 5, 10)\n",
        "print('----------------------------------')\n",
        "cyl.calc_surface_area()\n",
        "print(cyl)"
      ],
      "metadata": {
        "colab": {
          "base_uri": "https://localhost:8080/"
        },
        "id": "o4Y0rndBdDf0",
        "outputId": "5a9c8145-df84-4cb7-e0ea-c828c3ee6cff"
      },
      "execution_count": 6,
      "outputs": [
        {
          "output_type": "stream",
          "name": "stdout",
          "text": [
            "Shape name: Sphere, Area Formula: 4 * pi * r * r\n",
            "----------------------------------\n",
            "Radius: 5, Height: No need\n",
            "Area: 314.159\n",
            "==================================\n",
            "Shape name: Cylinder, Area Formula: 2 * pi * r * (r + h)\n",
            "----------------------------------\n",
            "Radius: 5, Height: 10\n",
            "Area: 471.2385\n"
          ]
        }
      ]
    },
    {
      "cell_type": "code",
      "source": [
        "class PokemonBasic:\n",
        "    def __init__(self, name = 'Default', hp = 0, weakness = 'None', type = 'Unknown'):\n",
        "        self.name = name\n",
        "        self.hit_point = hp\n",
        "        self.weakness = weakness\n",
        "        self.type = type\n",
        "        \n",
        "    def get_type(self):\n",
        "        return 'Main type: ' + self.type\n",
        "    \n",
        "    def get_move(self):\n",
        "        return 'Basic move: ' + 'Quick Attack'\n",
        "    \n",
        "    def __str__(self):\n",
        "        return \"Name: \" + self.name + \", HP: \" + str(self.hit_point) + \", Weakness: \" + self.weakness\n",
        "\n",
        "class PokemonExtra(PokemonBasic):\n",
        "    def __init__(self, name, hp, weakness, type, secondary_type = None, move = None):\n",
        "        super().__init__(name, hp, weakness, type)\n",
        "        self.secondary_type = secondary_type\n",
        "        self.move = move\n",
        "\n",
        "    def get_move(self):\n",
        "        str1 = str(self.move)\n",
        "        str2 = str1.replace(\"'\", \"\")[1:-1]\n",
        "        if self.move is None:\n",
        "            return super().get_move()\n",
        "        else:\n",
        "            return super().get_move() + \"\\nOther move:\" + str2\n",
        "\n",
        "    def get_type(self):\n",
        "        if self.secondary_type is None:\n",
        "            return super().get_type()\n",
        "        else:\n",
        "            return super().get_type() + \", Secondary type:\" + self.secondary_type\n",
        "            \n",
        "print('\\n------------Basic Info:--------------')\n",
        "pk = PokemonBasic()\n",
        "print(pk)\n",
        "print(pk.get_type())\n",
        "print(pk.get_move())\n",
        "print('\\n------------Pokemon 1 Info:-------------')\n",
        "charmander = PokemonExtra('Charmander', 39, 'Water',\n",
        "'Fire')\n",
        "print(charmander)\n",
        "print(charmander.get_type())\n",
        "print(charmander.get_move())\n",
        "print('\\n------------Pokemon 2 Info:-------------')\n",
        "charizard = PokemonExtra('Charizard', 78, 'Water',\n",
        "'Fire', 'Flying', ('Fire Spin', 'Fire Blaze'))\n",
        "print(charizard)\n",
        "print(charizard.get_type())\n",
        "print(charizard.get_move())"
      ],
      "metadata": {
        "colab": {
          "base_uri": "https://localhost:8080/"
        },
        "id": "Gs2cul6gdDw0",
        "outputId": "523562bc-98fd-4521-a5a7-7d5a3440a8a1"
      },
      "execution_count": 7,
      "outputs": [
        {
          "output_type": "stream",
          "name": "stdout",
          "text": [
            "\n",
            "------------Basic Info:--------------\n",
            "Name: Default, HP: 0, Weakness: None\n",
            "Main type: Unknown\n",
            "Basic move: Quick Attack\n",
            "\n",
            "------------Pokemon 1 Info:-------------\n",
            "Name: Charmander, HP: 39, Weakness: Water\n",
            "Main type: Fire\n",
            "Basic move: Quick Attack\n",
            "\n",
            "------------Pokemon 2 Info:-------------\n",
            "Name: Charizard, HP: 78, Weakness: Water\n",
            "Main type: Fire, Secondary type:Flying\n",
            "Basic move: Quick Attack\n",
            "Other move:Fire Spin, Fire Blaze\n"
          ]
        }
      ]
    },
    {
      "cell_type": "code",
      "source": [
        "class Team:\n",
        "    def __init__(self, name):\n",
        "        self.name = \"default\"\n",
        "        self.total_player = 5\n",
        "    def info(self):\n",
        "        print(\"We love sports\")\n",
        "\n",
        "class FootBallTeam(Team):\n",
        "    def __init__(self,name):\n",
        "        super().__init__(name)\n",
        "        self.name = 'Brazil'\n",
        "        self.total_player = 11\n",
        "    def info(self):\n",
        "        print(\"Our name is \" + self.name)\n",
        "        print(\"We play Football\")\n",
        "        return Team.info(self)\n",
        "\n",
        "class CricketTeam(Team):\n",
        "    def __init__(self,name):\n",
        "        super().__init__(name)\n",
        "        self.name = 'Bangladesh'\n",
        "        self.total_player = 11\n",
        "    def info(self):\n",
        "        print(\"Our name is \" + self.name)\n",
        "        print(\"We play Cricket\")\n",
        "        return Team.info(self)\n",
        "\n",
        "class Team_test:\n",
        "    def check(self, tm):\n",
        "        print(\"=========================\")\n",
        "        print(\"Total Player:\", tm.total_player)\n",
        "        tm.info()\n",
        "\n",
        "f = FootBallTeam(\"Brazil\")\n",
        "c = CricketTeam(\"Bangladesh\")\n",
        "test = Team_test()\n",
        "test.check(f)\n",
        "test.check(c)"
      ],
      "metadata": {
        "colab": {
          "base_uri": "https://localhost:8080/"
        },
        "id": "pd1FROawdEJs",
        "outputId": "2991197e-323d-4d7d-969d-a82fa49aaaf9"
      },
      "execution_count": 13,
      "outputs": [
        {
          "output_type": "stream",
          "name": "stdout",
          "text": [
            "=========================\n",
            "Total Player: 11\n",
            "Our name is Brazil\n",
            "We play Football\n",
            "We love sports\n",
            "=========================\n",
            "Total Player: 11\n",
            "Our name is Bangladesh\n",
            "We play Cricket\n",
            "We love sports\n"
          ]
        }
      ]
    },
    {
      "cell_type": "code",
      "source": [
        "class Pokemon:\n",
        "    def __init__(self, p):\n",
        "        self.pokemon = p\n",
        "        self.pokemon_type = \"Needs to be set\"\n",
        "        self.pokemon_weakness = \"Needs to be set\"\n",
        "    def kind(self):\n",
        "        return self.pokemon_type\n",
        "    def weakness(self):\n",
        "        return self.pokemon_weakness\n",
        "    def what_am_i(self):\n",
        "        print(\"I am a Pokemon.\")\n",
        "\n",
        "class Pikachu(Pokemon):\n",
        "    def __init__(self,name = \"Pikachu\"):\n",
        "        super().__init__(name)\n",
        "        self.pokemon_type = \"Electric\"\n",
        "        self.pokemon_weakness = \"Ground\"\n",
        "    def what_am_i(self):\n",
        "        super().what_am_i()\n",
        "        print(\"I am \" + self.pokemon + \".\")\n",
        "\n",
        "class Charmander(Pokemon):\n",
        "    def __init__(self,name = \"Charmander\"):\n",
        "        super().__init__(name)\n",
        "        self.pokemon_type = \"Fire\"\n",
        "        self.pokemon_weakness = \"Water, Ground and Rock\"\n",
        "    def what_am_i(self):\n",
        "        super().what_am_i()\n",
        "        print(\"I am \" + self.pokemon + \".\")\n",
        "        \n",
        "pk1 = Pikachu()\n",
        "print(\"Pokemon:\", pk1.pokemon)\n",
        "print(\"Type:\", pk1.kind())\n",
        "print(\"Weakness:\", pk1.weakness())\n",
        "pk1.what_am_i()\n",
        "print(\"========================\")\n",
        "c1 = Charmander()\n",
        "print(\"Pokemon:\", c1.pokemon)\n",
        "print(\"Type:\", c1.kind())\n",
        "print(\"Weakness:\", c1.weakness())\n",
        "c1.what_am_i()"
      ],
      "metadata": {
        "colab": {
          "base_uri": "https://localhost:8080/"
        },
        "id": "3UyfmvvmdEVU",
        "outputId": "7e34b5d4-189a-4ed7-d04f-0180e86565b8"
      },
      "execution_count": 9,
      "outputs": [
        {
          "output_type": "stream",
          "name": "stdout",
          "text": [
            "Pokemon: Pikachu\n",
            "Type: Electric\n",
            "Weakness: Ground\n",
            "I am a Pokemon.\n",
            "I am Pikachu.\n",
            "========================\n",
            "Pokemon: Charmander\n",
            "Type: Fire\n",
            "Weakness: Water, Ground and Rock\n",
            "I am a Pokemon.\n",
            "I am Charmander.\n"
          ]
        }
      ]
    },
    {
      "cell_type": "code",
      "source": [
        "class Department:\n",
        "    def __init__(self, s):\n",
        "        self.semester = s\n",
        "        self.name = \"Default\"\n",
        "        self.id = -1\n",
        "    def student_info(self):\n",
        "        print(\"Name:\", self.name)\n",
        "        print(\"ID:\", self.id)\n",
        "    def courses(self, c1, c2, c3):\n",
        "        print(\"No courses Approved yet!\")\n",
        "\n",
        "class CSE(Department):\n",
        "    def __init__(self,name,ID,semester):\n",
        "        super().__init__(semester)\n",
        "        self.name = name\n",
        "        self.id = ID\n",
        "    def courses(self, c1, c2, c3):\n",
        "        print(\"Courses Approved to this CSE student in\", self.semester, \"semester :\")\n",
        "        print(c1)\n",
        "        print(c2)\n",
        "        print(c3)\n",
        "\n",
        "class EEE(Department):\n",
        "    def __init__(self, name, ID, semester):\n",
        "        super().__init__(semester)\n",
        "        self.name = name\n",
        "        self.id = ID\n",
        "\n",
        "    def courses(self, c1, c2, c3):\n",
        "        print(f'Courses Approved to this EEE student in {self.semester} semester :')\n",
        "        print(c1)\n",
        "        print(c2)\n",
        "        print(c3)\n",
        "        \n",
        "s1 = CSE(\"Rahim\", 16101328, \"Spring2016\")\n",
        "s1.student_info()\n",
        "s1.courses(\"CSE110\", \"MAT110\", \"ENG101\")\n",
        "print(\"==================\")\n",
        "s2 = EEE(\"Tanzim\", 18101326, \"Spring2018\")\n",
        "s2.student_info()\n",
        "s2.courses(\"Mat110\", \"PHY111\", \"ENG101\")\n",
        "print(\"==================\")\n",
        "s3 = CSE(\"Rudana\", 18101326, \"Fall2017\")\n",
        "s3.student_info()\n",
        "s3.courses(\"CSE111\", \"PHY101\", \"MAT120\")\n",
        "print(\"==================\")\n",
        "s4 = EEE(\"Zainab\", 19201623, \"Summer2019\")\n",
        "s4.student_info()\n",
        "s4.courses(\"EEE201\", \"PHY112\", \"MAT120\")"
      ],
      "metadata": {
        "colab": {
          "base_uri": "https://localhost:8080/"
        },
        "id": "K7hBgubtdEkM",
        "outputId": "177d972d-ec32-4521-cede-aae11d0899ff"
      },
      "execution_count": 10,
      "outputs": [
        {
          "output_type": "stream",
          "name": "stdout",
          "text": [
            "Name: Rahim\n",
            "ID: 16101328\n",
            "Courses Approved to this CSE student in Spring2016 semester :\n",
            "CSE110\n",
            "MAT110\n",
            "ENG101\n",
            "==================\n",
            "Name: Tanzim\n",
            "ID: 18101326\n",
            "Courses Approved to this EEE student in Spring2018 semester :\n",
            "Mat110\n",
            "PHY111\n",
            "ENG101\n",
            "==================\n",
            "Name: Rudana\n",
            "ID: 18101326\n",
            "Courses Approved to this CSE student in Fall2017 semester :\n",
            "CSE111\n",
            "PHY101\n",
            "MAT120\n",
            "==================\n",
            "Name: Zainab\n",
            "ID: 19201623\n",
            "Courses Approved to this EEE student in Summer2019 semester :\n",
            "EEE201\n",
            "PHY112\n",
            "MAT120\n"
          ]
        }
      ]
    }
  ]
}